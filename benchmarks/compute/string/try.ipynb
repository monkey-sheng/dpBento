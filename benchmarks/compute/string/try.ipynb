{
 "cells": [
  {
   "cell_type": "code",
   "execution_count": 26,
   "metadata": {},
   "outputs": [],
   "source": [
    "import pandas as pd\n",
    "import numpy as np\n",
    "\n",
    "# tbl = '~/TPC-H V3.0.1/dbgen/orders.tbl'\n",
    "tbl = '~/TPC-H V3.0.1/dbgen/customer.tbl'\n",
    "out_fname = 'c_phone'\n",
    "\n",
    "df = pd.read_csv(tbl, header=None, delimiter='|')\n",
    "# drop the last column\n",
    "df.drop(df.columns[len(df.columns)-1], axis=1, inplace=True)\n"
   ]
  },
  {
   "cell_type": "code",
   "execution_count": 27,
   "metadata": {},
   "outputs": [
    {
     "name": "stdout",
     "output_type": "stream",
     "text": [
      "   0                   1                               2   3                4  \\\n",
      "0  1  Customer#000000001               IVhzIApeRb ot,c,E  15  25-989-741-2988   \n",
      "1  2  Customer#000000002  XSTf4,NCwDVaWNe6tEgvwfmRchLXak  13  23-768-687-3665   \n",
      "2  3  Customer#000000003                    MG9kdTD2WBHm   1  11-719-748-3364   \n",
      "3  4  Customer#000000004                     XxVSJsLAGtn   4  14-128-190-5944   \n",
      "4  5  Customer#000000005    KvpyuHCplrB84WgAiGV6sYpZq7Tj   3  13-750-942-6364   \n",
      "\n",
      "         5           6  \\\n",
      "0   711.56    BUILDING   \n",
      "1   121.65  AUTOMOBILE   \n",
      "2  7498.12  AUTOMOBILE   \n",
      "3  2866.83   MACHINERY   \n",
      "4   794.47   HOUSEHOLD   \n",
      "\n",
      "                                                                                                        7  \n",
      "0                                          to the even, regular platelets. regular, ironic epitaphs nag e  \n",
      "1                                         l accounts. blithely ironic theodolites integrate boldly: caref  \n",
      "2   deposits eat slyly ironic, even instructions. express foxes detect slyly. blithely even accounts abov  \n",
      "3                                                        requests. final, regular ideas sleep final accou  \n",
      "4                                                      n accounts will have to unwind. foxes cajole accor  \n"
     ]
    },
    {
     "data": {
      "text/plain": [
       "0    25-989-741-2988\n",
       "1    23-768-687-3665\n",
       "2    11-719-748-3364\n",
       "3    14-128-190-5944\n",
       "4    13-750-942-6364\n",
       "Name: 4, dtype: object"
      ]
     },
     "execution_count": 27,
     "metadata": {},
     "output_type": "execute_result"
    }
   ],
   "source": [
    "print(df.head())\n",
    "# df[4].head()\n",
    "# strdf = df[len(df.columns)-1]\n",
    "strdf = df[4]\n",
    "strdf.head()"
   ]
  },
  {
   "cell_type": "code",
   "execution_count": 5,
   "metadata": {},
   "outputs": [
    {
     "data": {
      "text/plain": [
       "0     PROMO BURNISHED COPPER\\n\n",
       "1        LARGE BRUSHED BRASS\\n\n",
       "2    STANDARD POLISHED BRASS\\n\n",
       "3         SMALL PLATED BRASS\\n\n",
       "4      STANDARD POLISHED TIN\\n\n",
       "Name: 4, dtype: object"
      ]
     },
     "execution_count": 5,
     "metadata": {},
     "output_type": "execute_result"
    }
   ],
   "source": [
    "# add '\\n' to the end of each string\n",
    "# strdf = strdf + '\\n'\n",
    "# strdf.head()"
   ]
  },
  {
   "cell_type": "code",
   "execution_count": 23,
   "metadata": {},
   "outputs": [],
   "source": [
    "import re\n",
    "# use re to match sql string '%special%requests%'\n",
    "m = re.search(r'.+special.+requests.+', strdf.to_string())"
   ]
  },
  {
   "cell_type": "code",
   "execution_count": 29,
   "metadata": {},
   "outputs": [
    {
     "data": {
      "text/plain": [
       "'5          ggle. special, final requests are against the ...'"
      ]
     },
     "execution_count": 29,
     "metadata": {},
     "output_type": "execute_result"
    }
   ],
   "source": [
    "m.group(0)"
   ]
  },
  {
   "cell_type": "code",
   "execution_count": 28,
   "metadata": {},
   "outputs": [
    {
     "name": "stdout",
     "output_type": "stream",
     "text": [
      "2399999\n",
      "4038\n",
      "20-743-338-6282\n",
      "20-149-234-3062\n",
      "31-694-123-5061\n",
      "12-860-414-6024\n",
      "11-401-828-7411\n",
      "20-354-401-201\n"
     ]
    }
   ],
   "source": [
    "# write all the strings to a file\n",
    "# with open('part.txt', 'w') as f:\n",
    "#     f.write(strdf.to_string(index=False, header=False))\n",
    "\n",
    "pd.set_option('display.max_colwidth', None)\n",
    "# concat_str = strdf.to_string(index=False, header=False)\n",
    "concat_str = strdf.str.cat(sep='\\n')\n",
    "print(len(concat_str))\n",
    "print(concat_str[-100:-1])\n",
    "# write the string to a file\n",
    "with open(out_fname+'.txt', 'w') as f:\n",
    "    f.write(concat_str)"
   ]
  }
 ],
 "metadata": {
  "kernelspec": {
   "display_name": "Python 3",
   "language": "python",
   "name": "python3"
  },
  "language_info": {
   "codemirror_mode": {
    "name": "ipython",
    "version": 3
   },
   "file_extension": ".py",
   "mimetype": "text/x-python",
   "name": "python",
   "nbconvert_exporter": "python",
   "pygments_lexer": "ipython3",
   "version": "3.10.13"
  }
 },
 "nbformat": 4,
 "nbformat_minor": 2
}
