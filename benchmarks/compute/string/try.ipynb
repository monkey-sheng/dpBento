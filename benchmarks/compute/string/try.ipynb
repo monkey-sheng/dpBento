{
 "cells": [
  {
   "cell_type": "code",
   "execution_count": 11,
   "metadata": {},
   "outputs": [],
   "source": [
    "import pandas as pd\n",
    "import numpy as np\n",
    "\n",
    "tbl = '~/TPC-H V3.0.1/dbgen/part.tbl'\n",
    "\n",
    "df = pd.read_csv(tbl, header=None, delimiter='|')\n",
    "# drop the last column\n",
    "df.drop(df.columns[len(df.columns)-1], axis=1, inplace=True)\n"
   ]
  },
  {
   "cell_type": "code",
   "execution_count": 12,
   "metadata": {},
   "outputs": [
    {
     "name": "stdout",
     "output_type": "stream",
     "text": [
      "   0                                         1               2         3  \\\n",
      "0  1  goldenrod lavender spring chocolate lace  Manufacturer#1  Brand#13   \n",
      "1  2          blush thistle blue yellow saddle  Manufacturer#1  Brand#13   \n",
      "2  3       spring green yellow purple cornsilk  Manufacturer#4  Brand#42   \n",
      "3  4     cornflower chocolate smoke green pink  Manufacturer#3  Brand#34   \n",
      "4  5             forest brown coral puff cream  Manufacturer#3  Brand#32   \n",
      "\n",
      "                         4   5          6      7                    8  \n",
      "0   PROMO BURNISHED COPPER   7  JUMBO PKG  901.0      ly. slyly ironi  \n",
      "1      LARGE BRUSHED BRASS   1    LG CASE  902.0     lar accounts amo  \n",
      "2  STANDARD POLISHED BRASS  21  WRAP CASE  903.0  egular deposits hag  \n",
      "3       SMALL PLATED BRASS  14   MED DRUM  904.0        p furiously r  \n",
      "4    STANDARD POLISHED TIN  15     SM PKG  905.0      wake carefully   \n"
     ]
    },
    {
     "data": {
      "text/plain": [
       "0     PROMO BURNISHED COPPER\n",
       "1        LARGE BRUSHED BRASS\n",
       "2    STANDARD POLISHED BRASS\n",
       "3         SMALL PLATED BRASS\n",
       "4      STANDARD POLISHED TIN\n",
       "Name: 4, dtype: object"
      ]
     },
     "execution_count": 12,
     "metadata": {},
     "output_type": "execute_result"
    }
   ],
   "source": [
    "print(df.head())\n",
    "df[8].head()\n",
    "# change the dtype to string\n",
    "strdf = df[4]\n",
    "strdf.head()"
   ]
  },
  {
   "cell_type": "code",
   "execution_count": 13,
   "metadata": {},
   "outputs": [
    {
     "data": {
      "text/plain": [
       "0     PROMO BURNISHED COPPER\\n\n",
       "1        LARGE BRUSHED BRASS\\n\n",
       "2    STANDARD POLISHED BRASS\\n\n",
       "3         SMALL PLATED BRASS\\n\n",
       "4      STANDARD POLISHED TIN\\n\n",
       "Name: 4, dtype: object"
      ]
     },
     "execution_count": 13,
     "metadata": {},
     "output_type": "execute_result"
    }
   ],
   "source": [
    "# add '\\n' to the end of each string\n",
    "strdf = strdf + '\\n'\n",
    "strdf.head()"
   ]
  },
  {
   "cell_type": "code",
   "execution_count": 14,
   "metadata": {},
   "outputs": [
    {
     "name": "stdout",
     "output_type": "stream",
     "text": [
      "5599999\n"
     ]
    }
   ],
   "source": [
    "# write all the strings to a file\n",
    "# with open('part.txt', 'w') as f:\n",
    "#     f.write(strdf.to_string(index=False, header=False))\n",
    "concat_str = strdf.to_string(index=False, header=False)\n",
    "print(len(concat_str))\n",
    "# write the string to a file\n",
    "with open('p_type.txt', 'w') as f:\n",
    "    f.write(concat_str)"
   ]
  }
 ],
 "metadata": {
  "kernelspec": {
   "display_name": "Python 3",
   "language": "python",
   "name": "python3"
  },
  "language_info": {
   "codemirror_mode": {
    "name": "ipython",
    "version": 3
   },
   "file_extension": ".py",
   "mimetype": "text/x-python",
   "name": "python",
   "nbconvert_exporter": "python",
   "pygments_lexer": "ipython3",
   "version": "3.10.13"
  }
 },
 "nbformat": 4,
 "nbformat_minor": 2
}
