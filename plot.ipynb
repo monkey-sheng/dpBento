{
 "cells": [
  {
   "cell_type": "code",
   "execution_count": 39,
   "metadata": {},
   "outputs": [
    {
     "data": {
      "text/html": [
       "<div>\n",
       "<style scoped>\n",
       "    .dataframe tbody tr th:only-of-type {\n",
       "        vertical-align: middle;\n",
       "    }\n",
       "\n",
       "    .dataframe tbody tr th {\n",
       "        vertical-align: top;\n",
       "    }\n",
       "\n",
       "    .dataframe thead th {\n",
       "        text-align: right;\n",
       "    }\n",
       "</style>\n",
       "<table border=\"1\" class=\"dataframe\">\n",
       "  <thead>\n",
       "    <tr style=\"text-align: right;\">\n",
       "      <th></th>\n",
       "      <th>class</th>\n",
       "      <th>order</th>\n",
       "      <th>max_speed</th>\n",
       "      <th>random_column</th>\n",
       "    </tr>\n",
       "  </thead>\n",
       "  <tbody>\n",
       "    <tr>\n",
       "      <th>0</th>\n",
       "      <td>bird</td>\n",
       "      <td>Falconiformes</td>\n",
       "      <td>389.0</td>\n",
       "      <td>agdad</td>\n",
       "    </tr>\n",
       "    <tr>\n",
       "      <th>1</th>\n",
       "      <td>bird</td>\n",
       "      <td>Falconiformes</td>\n",
       "      <td>289.0</td>\n",
       "      <td>aegq</td>\n",
       "    </tr>\n",
       "    <tr>\n",
       "      <th>2</th>\n",
       "      <td>bird</td>\n",
       "      <td>Falconiformes</td>\n",
       "      <td>189.0</td>\n",
       "      <td>egeqg</td>\n",
       "    </tr>\n",
       "    <tr>\n",
       "      <th>3</th>\n",
       "      <td>bird</td>\n",
       "      <td>Psittaciformes</td>\n",
       "      <td>24.0</td>\n",
       "      <td>gqghq</td>\n",
       "    </tr>\n",
       "    <tr>\n",
       "      <th>4</th>\n",
       "      <td>mammal</td>\n",
       "      <td>Carnivora</td>\n",
       "      <td>80.2</td>\n",
       "      <td>rhwr</td>\n",
       "    </tr>\n",
       "    <tr>\n",
       "      <th>5</th>\n",
       "      <td>mammal</td>\n",
       "      <td>Carnivora</td>\n",
       "      <td>58.0</td>\n",
       "      <td>joijrop</td>\n",
       "    </tr>\n",
       "  </tbody>\n",
       "</table>\n",
       "</div>"
      ],
      "text/plain": [
       "    class           order  max_speed random_column\n",
       "0    bird   Falconiformes      389.0         agdad\n",
       "1    bird   Falconiformes      289.0          aegq\n",
       "2    bird   Falconiformes      189.0         egeqg\n",
       "3    bird  Psittaciformes       24.0         gqghq\n",
       "4  mammal       Carnivora       80.2          rhwr\n",
       "5  mammal       Carnivora       58.0       joijrop"
      ]
     },
     "execution_count": 39,
     "metadata": {},
     "output_type": "execute_result"
    }
   ],
   "source": [
    "import pandas as pd\n",
    "import numpy as np\n",
    "\n",
    "speeds = pd.DataFrame(\n",
    "    [\n",
    "        (\"bird\", \"Falconiformes\", 389.0, 'agdad'),\n",
    "        (\"bird\", \"Falconiformes\", 289.0, 'aegq'),\n",
    "        (\"bird\", \"Falconiformes\", 189.0, 'egeqg'),\n",
    "        (\"bird\", \"Psittaciformes\", 24.0, 'gqghq'),\n",
    "        (\"mammal\", \"Carnivora\", 80.2, 'rhwr'),\n",
    "        # (\"mammal\", \"Primates\", np.nan, 'rhgrh'),\n",
    "        (\"mammal\", \"Carnivora\", 58,'joijrop'),\n",
    "    ],\n",
    "    # index=[\"falcon\", \"falcon\", \"falcon\", \"parrot\", \"lion\", \"monkey\", \"leopard\"],\n",
    "    columns=(\"class\", \"order\", \"max_speed\", \"random_column\"),\n",
    ")\n",
    "\n",
    "speeds"
   ]
  },
  {
   "cell_type": "code",
   "execution_count": 40,
   "metadata": {},
   "outputs": [
    {
     "name": "stdout",
     "output_type": "stream",
     "text": [
      "dict_keys([('bird', 'Falconiformes'), ('bird', 'Psittaciformes'), ('mammal', 'Carnivora')])\n"
     ]
    }
   ],
   "source": [
    "grouped = speeds.groupby([\"class\", \"order\"])\n",
    "\n",
    "# Get all groups\n",
    "all_groups = grouped.groups\n",
    "print(all_groups.keys())"
   ]
  },
  {
   "cell_type": "code",
   "execution_count": 41,
   "metadata": {},
   "outputs": [
    {
     "name": "stdout",
     "output_type": "stream",
     "text": [
      "                       max_speed random_column\n",
      "class  order                                  \n",
      "bird   Falconiformes       389.0         egeqg\n",
      "       Psittaciformes       24.0         gqghq\n",
      "mammal Carnivora            80.2          rhwr\n"
     ]
    }
   ],
   "source": [
    "# find max of all groups\n",
    "max_speeds = grouped.max()\n",
    "print(max_speeds)\n",
    "# cols = max_speeds[[\"random_column\"]]\n",
    "# print(cols)"
   ]
  },
  {
   "cell_type": "code",
   "execution_count": 42,
   "metadata": {},
   "outputs": [
    {
     "name": "stdout",
     "output_type": "stream",
     "text": [
      "  class          order  max_speed random_column\n",
      "0  bird  Falconiformes      389.0         agdad\n",
      "1  bird  Falconiformes      289.0          aegq\n",
      "2  bird  Falconiformes      189.0         egeqg\n",
      "289.0\n"
     ]
    }
   ],
   "source": [
    "grouped = speeds.groupby([\"class\", \"order\"]).get_group(('bird', 'Falconiformes'))\n",
    "print(grouped)\n",
    "print(grouped['max_speed'].mean())"
   ]
  },
  {
   "cell_type": "code",
   "execution_count": 47,
   "metadata": {},
   "outputs": [
    {
     "name": "stdout",
     "output_type": "stream",
     "text": [
      "[('bird', 'Falconiformes'), ('bird', 'Psittaciformes'), ('mammal', 'Carnivora')]\n",
      "('bird', 'Falconiformes')\n",
      "289.0\n",
      "('bird', 'Psittaciformes')\n",
      "24.0\n",
      "('mammal', 'Carnivora')\n",
      "69.1\n",
      "('bird', 'Falconiformes')\n",
      "289.0\n"
     ]
    }
   ],
   "source": [
    "# Get all groups\n",
    "grouped = speeds.groupby([\"class\", \"order\"])\n",
    "all_groups = list(grouped.groups.keys())\n",
    "print(all_groups)\n",
    "\n",
    "\n",
    "agg_values = []\n",
    "\n",
    "for group in all_groups:\n",
    "    print(group)\n",
    "    agg_val = grouped.get_group(group)['max_speed'].mean()\n",
    "    print(agg_val)\n",
    "    agg_values.append(agg_val)\n",
    "\n",
    "idx = np.argmax(agg_values)\n",
    "agg_result_group = all_groups[idx]\n",
    "print(agg_result_group)\n",
    "selected_val = agg_values[idx]\n",
    "print(selected_val)\n"
   ]
  },
  {
   "cell_type": "code",
   "execution_count": 24,
   "metadata": {},
   "outputs": [
    {
     "data": {
      "text/plain": [
       "389.0"
      ]
     },
     "execution_count": 24,
     "metadata": {},
     "output_type": "execute_result"
    }
   ],
   "source": [
    "grouped = speeds.groupby([\"class\", \"order\"])\n",
    "grouped.get_group((\"bird\", \"Falconiformes\")).max().iloc[-1]  # get actual agg value\n",
    "#grouped.get_group((\"bird\", \"Falconiformes\")).max().iloc[2]"
   ]
  }
 ],
 "metadata": {
  "kernelspec": {
   "display_name": "Python 3",
   "language": "python",
   "name": "python3"
  },
  "language_info": {
   "codemirror_mode": {
    "name": "ipython",
    "version": 3
   },
   "file_extension": ".py",
   "mimetype": "text/x-python",
   "name": "python",
   "nbconvert_exporter": "python",
   "pygments_lexer": "ipython3",
   "version": "3.10.12"
  }
 },
 "nbformat": 4,
 "nbformat_minor": 2
}
